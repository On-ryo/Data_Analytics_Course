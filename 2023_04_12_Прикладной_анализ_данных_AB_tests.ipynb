{
 "cells": [
  {
   "cell_type": "code",
   "execution_count": 2,
   "metadata": {},
   "outputs": [],
   "source": [
    "import pandas as pd\n",
    "import numpy as np\n",
    "import matplotlib.pyplot as plt\n",
    "import seaborn as sns"
   ]
  },
  {
   "attachments": {},
   "cell_type": "markdown",
   "metadata": {},
   "source": [
    "# Задание 1.  \n",
    "\n",
    "Выбор гипотезы:\n",
    "Суммарное число баллов каждой гипотезы:  \n",
    "1 - 18  \n",
    "2 - 24  \n",
    "3 - 20  \n",
    "4 - 19  \n",
    "\n",
    "т.е. выбираем вторую версию, поскольку она набрала максимальный балл по этой карточке."
   ]
  },
  {
   "attachments": {},
   "cell_type": "markdown",
   "metadata": {},
   "source": [
    "# Задание 2. \n",
    "\n",
    "Метрики эксперимента:  \n",
    "\n",
    "Ключевая метрика: процент перешедших по ссылке от открывших письмо  \n",
    "  \n",
    "Смежные: \n",
    "- число открытых e-mail\n",
    "- процент перешедших не в мобильное приложение, а с компьютера (поскольку улучшаем именно мобильное приложение, повышение этой метрики будет показывать, что  вмешался какой-то сторонний фактор, а наше изменение роли не сыграло)\n",
    "- стоит отслеживать конверсию в какие-либо действия на сайте"
   ]
  },
  {
   "attachments": {},
   "cell_type": "markdown",
   "metadata": {},
   "source": [
    "# Задание 3. Расчёт ожидаемого эффекта по данным\n",
    "\n",
    "\n"
   ]
  },
  {
   "cell_type": "code",
   "execution_count": 10,
   "metadata": {},
   "outputs": [
    {
     "name": "stdout",
     "output_type": "stream",
     "text": [
      "(4853, 2)\n",
      "(490, 2)\n",
      "Nan?\n",
      "date       0\n",
      "user_id    0\n",
      "dtype: int64\n",
      "date       0\n",
      "user_id    0\n",
      "dtype: int64\n",
      "Дубликаты\n",
      "False    4853\n",
      "Name: count, dtype: int64\n",
      "False    490\n",
      "Name: count, dtype: int64\n",
      "Типы данных в столбцах\n",
      "date       object\n",
      "user_id     int64\n",
      "dtype: object\n",
      "        date  user_id\n",
      "0 2023-01-01   101232\n",
      "1 2023-01-01   101233\n",
      "2 2023-01-01   101234\n",
      "           date  user_id\n",
      "4850 2023-02-28   106082\n",
      "4851 2023-02-28   106083\n",
      "4852 2023-02-28   106084\n",
      "date       2023-02-28 00:00:00\n",
      "user_id                 106084\n",
      "dtype: object\n"
     ]
    }
   ],
   "source": [
    "# Чтение данных  \n",
    "# Проверка качества датасета\n",
    "# прочитать датасет\n",
    "users_opened = pd.read_csv('m8_task\\Data for MDE - opened.csv')\n",
    "\n",
    "users_clicked = pd.read_csv('m8_task\\Data for MDE - clicked.csv')\n",
    "\n",
    "# узнать размер\n",
    "print(users_opened.shape)\n",
    "print(users_clicked.shape)\n",
    "\n",
    "# проверить на Nan \n",
    "\n",
    "print('Nan?')\n",
    "print(users_opened.isna().sum())\n",
    "print(users_clicked.isna().sum())\n",
    "\n",
    "# в user id нет дубликатов\n",
    "print('Дубликаты')\n",
    "print(users_opened.duplicated(subset='user_id', keep=False).value_counts())\n",
    "print(users_clicked.duplicated(subset='user_id', keep=False).value_counts())\n",
    "\n",
    "# проверить формат\n",
    "print('Типы данных в столбцах')\n",
    "print(users_opened.dtypes)\n",
    "\n",
    "# поменять тип данных певрого столбца на datetime\n",
    "\n",
    "users_opened.date =  pd.to_datetime(users_opened.date, format='%d.%m.%Y') \n",
    "users_clicked.date = pd.to_datetime(users_clicked.date, format='%d.%m.%Y') \n",
    "      \n",
    "# посмотреть  строчки\n",
    "print(users_opened.head(3))\n",
    "print(users_opened.tail(3))\n",
    "print(users_opened.max())\n",
    "\n"
   ]
  },
  {
   "cell_type": "code",
   "execution_count": 13,
   "metadata": {},
   "outputs": [],
   "source": [
    "# Уровень конверсии в клики в день, средняя\n",
    "opened_by_date = users_opened.loc[:, ['date', 'user_id']].groupby(['date']).count()\n",
    "clicked_by_date = users_clicked.loc[:, ['date', 'user_id']].groupby(['date']).count()\n",
    "\n",
    "o_c_by_date = opened_by_date.merge(clicked_by_date, how='inner', on='date')"
   ]
  },
  {
   "cell_type": "code",
   "execution_count": 43,
   "metadata": {},
   "outputs": [
    {
     "data": {
      "text/html": [
       "<div>\n",
       "<style scoped>\n",
       "    .dataframe tbody tr th:only-of-type {\n",
       "        vertical-align: middle;\n",
       "    }\n",
       "\n",
       "    .dataframe tbody tr th {\n",
       "        vertical-align: top;\n",
       "    }\n",
       "\n",
       "    .dataframe thead th {\n",
       "        text-align: right;\n",
       "    }\n",
       "</style>\n",
       "<table border=\"1\" class=\"dataframe\">\n",
       "  <thead>\n",
       "    <tr style=\"text-align: right;\">\n",
       "      <th></th>\n",
       "      <th>user_id_x</th>\n",
       "      <th>user_id_y</th>\n",
       "    </tr>\n",
       "    <tr>\n",
       "      <th>date</th>\n",
       "      <th></th>\n",
       "      <th></th>\n",
       "    </tr>\n",
       "  </thead>\n",
       "  <tbody>\n",
       "    <tr>\n",
       "      <th>2023-01-01</th>\n",
       "      <td>84</td>\n",
       "      <td>8</td>\n",
       "    </tr>\n",
       "    <tr>\n",
       "      <th>2023-01-02</th>\n",
       "      <td>81</td>\n",
       "      <td>8</td>\n",
       "    </tr>\n",
       "    <tr>\n",
       "      <th>2023-01-13</th>\n",
       "      <td>81</td>\n",
       "      <td>8</td>\n",
       "    </tr>\n",
       "    <tr>\n",
       "      <th>2023-01-14</th>\n",
       "      <td>87</td>\n",
       "      <td>7</td>\n",
       "    </tr>\n",
       "    <tr>\n",
       "      <th>2023-01-15</th>\n",
       "      <td>83</td>\n",
       "      <td>9</td>\n",
       "    </tr>\n",
       "    <tr>\n",
       "      <th>2023-01-16</th>\n",
       "      <td>82</td>\n",
       "      <td>8</td>\n",
       "    </tr>\n",
       "    <tr>\n",
       "      <th>2023-01-17</th>\n",
       "      <td>80</td>\n",
       "      <td>7</td>\n",
       "    </tr>\n",
       "    <tr>\n",
       "      <th>2023-01-18</th>\n",
       "      <td>85</td>\n",
       "      <td>8</td>\n",
       "    </tr>\n",
       "    <tr>\n",
       "      <th>2023-01-19</th>\n",
       "      <td>81</td>\n",
       "      <td>8</td>\n",
       "    </tr>\n",
       "    <tr>\n",
       "      <th>2023-01-20</th>\n",
       "      <td>78</td>\n",
       "      <td>7</td>\n",
       "    </tr>\n",
       "    <tr>\n",
       "      <th>2023-01-21</th>\n",
       "      <td>81</td>\n",
       "      <td>8</td>\n",
       "    </tr>\n",
       "    <tr>\n",
       "      <th>2023-01-22</th>\n",
       "      <td>84</td>\n",
       "      <td>8</td>\n",
       "    </tr>\n",
       "    <tr>\n",
       "      <th>2023-01-23</th>\n",
       "      <td>82</td>\n",
       "      <td>7</td>\n",
       "    </tr>\n",
       "    <tr>\n",
       "      <th>2023-01-24</th>\n",
       "      <td>81</td>\n",
       "      <td>8</td>\n",
       "    </tr>\n",
       "    <tr>\n",
       "      <th>2023-01-25</th>\n",
       "      <td>85</td>\n",
       "      <td>7</td>\n",
       "    </tr>\n",
       "    <tr>\n",
       "      <th>2023-01-26</th>\n",
       "      <td>80</td>\n",
       "      <td>8</td>\n",
       "    </tr>\n",
       "    <tr>\n",
       "      <th>2023-01-27</th>\n",
       "      <td>83</td>\n",
       "      <td>8</td>\n",
       "    </tr>\n",
       "    <tr>\n",
       "      <th>2023-01-28</th>\n",
       "      <td>81</td>\n",
       "      <td>8</td>\n",
       "    </tr>\n",
       "    <tr>\n",
       "      <th>2023-01-29</th>\n",
       "      <td>82</td>\n",
       "      <td>8</td>\n",
       "    </tr>\n",
       "    <tr>\n",
       "      <th>2023-01-30</th>\n",
       "      <td>84</td>\n",
       "      <td>8</td>\n",
       "    </tr>\n",
       "    <tr>\n",
       "      <th>2023-01-31</th>\n",
       "      <td>85</td>\n",
       "      <td>8</td>\n",
       "    </tr>\n",
       "    <tr>\n",
       "      <th>2023-02-01</th>\n",
       "      <td>72</td>\n",
       "      <td>8</td>\n",
       "    </tr>\n",
       "    <tr>\n",
       "      <th>2023-02-02</th>\n",
       "      <td>83</td>\n",
       "      <td>7</td>\n",
       "    </tr>\n",
       "    <tr>\n",
       "      <th>2023-02-13</th>\n",
       "      <td>82</td>\n",
       "      <td>7</td>\n",
       "    </tr>\n",
       "    <tr>\n",
       "      <th>2023-02-14</th>\n",
       "      <td>80</td>\n",
       "      <td>8</td>\n",
       "    </tr>\n",
       "    <tr>\n",
       "      <th>2023-02-15</th>\n",
       "      <td>78</td>\n",
       "      <td>7</td>\n",
       "    </tr>\n",
       "    <tr>\n",
       "      <th>2023-02-16</th>\n",
       "      <td>81</td>\n",
       "      <td>8</td>\n",
       "    </tr>\n",
       "    <tr>\n",
       "      <th>2023-02-17</th>\n",
       "      <td>83</td>\n",
       "      <td>8</td>\n",
       "    </tr>\n",
       "    <tr>\n",
       "      <th>2023-02-18</th>\n",
       "      <td>84</td>\n",
       "      <td>8</td>\n",
       "    </tr>\n",
       "    <tr>\n",
       "      <th>2023-02-19</th>\n",
       "      <td>82</td>\n",
       "      <td>8</td>\n",
       "    </tr>\n",
       "    <tr>\n",
       "      <th>2023-02-20</th>\n",
       "      <td>83</td>\n",
       "      <td>7</td>\n",
       "    </tr>\n",
       "    <tr>\n",
       "      <th>2023-02-21</th>\n",
       "      <td>85</td>\n",
       "      <td>9</td>\n",
       "    </tr>\n",
       "    <tr>\n",
       "      <th>2023-02-22</th>\n",
       "      <td>84</td>\n",
       "      <td>8</td>\n",
       "    </tr>\n",
       "    <tr>\n",
       "      <th>2023-02-23</th>\n",
       "      <td>82</td>\n",
       "      <td>8</td>\n",
       "    </tr>\n",
       "    <tr>\n",
       "      <th>2023-02-24</th>\n",
       "      <td>80</td>\n",
       "      <td>8</td>\n",
       "    </tr>\n",
       "    <tr>\n",
       "      <th>2023-02-25</th>\n",
       "      <td>84</td>\n",
       "      <td>8</td>\n",
       "    </tr>\n",
       "    <tr>\n",
       "      <th>2023-02-26</th>\n",
       "      <td>84</td>\n",
       "      <td>7</td>\n",
       "    </tr>\n",
       "    <tr>\n",
       "      <th>2023-02-27</th>\n",
       "      <td>82</td>\n",
       "      <td>8</td>\n",
       "    </tr>\n",
       "    <tr>\n",
       "      <th>2023-02-28</th>\n",
       "      <td>81</td>\n",
       "      <td>8</td>\n",
       "    </tr>\n",
       "    <tr>\n",
       "      <th>2023-03-01</th>\n",
       "      <td>90</td>\n",
       "      <td>8</td>\n",
       "    </tr>\n",
       "    <tr>\n",
       "      <th>2023-03-02</th>\n",
       "      <td>82</td>\n",
       "      <td>8</td>\n",
       "    </tr>\n",
       "    <tr>\n",
       "      <th>2023-04-01</th>\n",
       "      <td>79</td>\n",
       "      <td>7</td>\n",
       "    </tr>\n",
       "    <tr>\n",
       "      <th>2023-04-02</th>\n",
       "      <td>81</td>\n",
       "      <td>8</td>\n",
       "    </tr>\n",
       "    <tr>\n",
       "      <th>2023-05-01</th>\n",
       "      <td>72</td>\n",
       "      <td>8</td>\n",
       "    </tr>\n",
       "    <tr>\n",
       "      <th>2023-05-02</th>\n",
       "      <td>84</td>\n",
       "      <td>8</td>\n",
       "    </tr>\n",
       "    <tr>\n",
       "      <th>2023-06-01</th>\n",
       "      <td>84</td>\n",
       "      <td>7</td>\n",
       "    </tr>\n",
       "    <tr>\n",
       "      <th>2023-06-02</th>\n",
       "      <td>85</td>\n",
       "      <td>12</td>\n",
       "    </tr>\n",
       "    <tr>\n",
       "      <th>2023-07-01</th>\n",
       "      <td>83</td>\n",
       "      <td>8</td>\n",
       "    </tr>\n",
       "    <tr>\n",
       "      <th>2023-07-02</th>\n",
       "      <td>84</td>\n",
       "      <td>11</td>\n",
       "    </tr>\n",
       "    <tr>\n",
       "      <th>2023-08-01</th>\n",
       "      <td>81</td>\n",
       "      <td>8</td>\n",
       "    </tr>\n",
       "    <tr>\n",
       "      <th>2023-08-02</th>\n",
       "      <td>86</td>\n",
       "      <td>13</td>\n",
       "    </tr>\n",
       "    <tr>\n",
       "      <th>2023-09-01</th>\n",
       "      <td>84</td>\n",
       "      <td>8</td>\n",
       "    </tr>\n",
       "    <tr>\n",
       "      <th>2023-09-02</th>\n",
       "      <td>83</td>\n",
       "      <td>12</td>\n",
       "    </tr>\n",
       "    <tr>\n",
       "      <th>2023-10-01</th>\n",
       "      <td>79</td>\n",
       "      <td>7</td>\n",
       "    </tr>\n",
       "    <tr>\n",
       "      <th>2023-10-02</th>\n",
       "      <td>84</td>\n",
       "      <td>12</td>\n",
       "    </tr>\n",
       "    <tr>\n",
       "      <th>2023-11-01</th>\n",
       "      <td>82</td>\n",
       "      <td>8</td>\n",
       "    </tr>\n",
       "    <tr>\n",
       "      <th>2023-11-02</th>\n",
       "      <td>81</td>\n",
       "      <td>12</td>\n",
       "    </tr>\n",
       "    <tr>\n",
       "      <th>2023-12-01</th>\n",
       "      <td>85</td>\n",
       "      <td>8</td>\n",
       "    </tr>\n",
       "    <tr>\n",
       "      <th>2023-12-02</th>\n",
       "      <td>84</td>\n",
       "      <td>13</td>\n",
       "    </tr>\n",
       "  </tbody>\n",
       "</table>\n",
       "</div>"
      ],
      "text/plain": [
       "            user_id_x  user_id_y\n",
       "date                            \n",
       "2023-01-01         84          8\n",
       "2023-01-02         81          8\n",
       "2023-01-13         81          8\n",
       "2023-01-14         87          7\n",
       "2023-01-15         83          9\n",
       "2023-01-16         82          8\n",
       "2023-01-17         80          7\n",
       "2023-01-18         85          8\n",
       "2023-01-19         81          8\n",
       "2023-01-20         78          7\n",
       "2023-01-21         81          8\n",
       "2023-01-22         84          8\n",
       "2023-01-23         82          7\n",
       "2023-01-24         81          8\n",
       "2023-01-25         85          7\n",
       "2023-01-26         80          8\n",
       "2023-01-27         83          8\n",
       "2023-01-28         81          8\n",
       "2023-01-29         82          8\n",
       "2023-01-30         84          8\n",
       "2023-01-31         85          8\n",
       "2023-02-01         72          8\n",
       "2023-02-02         83          7\n",
       "2023-02-13         82          7\n",
       "2023-02-14         80          8\n",
       "2023-02-15         78          7\n",
       "2023-02-16         81          8\n",
       "2023-02-17         83          8\n",
       "2023-02-18         84          8\n",
       "2023-02-19         82          8\n",
       "2023-02-20         83          7\n",
       "2023-02-21         85          9\n",
       "2023-02-22         84          8\n",
       "2023-02-23         82          8\n",
       "2023-02-24         80          8\n",
       "2023-02-25         84          8\n",
       "2023-02-26         84          7\n",
       "2023-02-27         82          8\n",
       "2023-02-28         81          8\n",
       "2023-03-01         90          8\n",
       "2023-03-02         82          8\n",
       "2023-04-01         79          7\n",
       "2023-04-02         81          8\n",
       "2023-05-01         72          8\n",
       "2023-05-02         84          8\n",
       "2023-06-01         84          7\n",
       "2023-06-02         85         12\n",
       "2023-07-01         83          8\n",
       "2023-07-02         84         11\n",
       "2023-08-01         81          8\n",
       "2023-08-02         86         13\n",
       "2023-09-01         84          8\n",
       "2023-09-02         83         12\n",
       "2023-10-01         79          7\n",
       "2023-10-02         84         12\n",
       "2023-11-01         82          8\n",
       "2023-11-02         81         12\n",
       "2023-12-01         85          8\n",
       "2023-12-02         84         13"
      ]
     },
     "execution_count": 43,
     "metadata": {},
     "output_type": "execute_result"
    }
   ],
   "source": [
    "o_c_by_date"
   ]
  },
  {
   "cell_type": "code",
   "execution_count": 14,
   "metadata": {},
   "outputs": [
    {
     "name": "stdout",
     "output_type": "stream",
     "text": [
      "count    59.000000\n",
      "mean      0.100952\n",
      "std       0.017622\n",
      "min       0.080460\n",
      "25%       0.094118\n",
      "50%       0.097561\n",
      "75%       0.098765\n",
      "max       0.154762\n",
      "Name: conversion, dtype: float64\n"
     ]
    }
   ],
   "source": [
    "o_c_by_date['conversion'] = o_c_by_date['user_id_y'] / o_c_by_date[ 'user_id_x']\n",
    "print(o_c_by_date['conversion'].describe())"
   ]
  },
  {
   "attachments": {},
   "cell_type": "markdown",
   "metadata": {},
   "source": [
    "В настоящий момент средняя конверсия 10%  \n"
   ]
  },
  {
   "attachments": {},
   "cell_type": "markdown",
   "metadata": {},
   "source": [
    "# Задание 4.  Требуемый размер выборки для анализа данных эксперимента.  \n",
    "+ Оценка длительности A/B теста "
   ]
  },
  {
   "cell_type": "code",
   "execution_count": 15,
   "metadata": {},
   "outputs": [
    {
     "data": {
      "text/plain": [
       "<AxesSubplot:title={'center':'Conversion rate over months'}, xlabel='month', ylabel='rate'>"
      ]
     },
     "execution_count": 15,
     "metadata": {},
     "output_type": "execute_result"
    },
    {
     "data": {
      "image/png": "[encoded data removed]",
      "text/plain": [
       "<Figure size 1080x576 with 1 Axes>"
      ]
     },
     "metadata": {
      "needs_background": "light"
     },
     "output_type": "display_data"
    }
   ],
   "source": [
    "o_c_by_date['conversion'].plot(figsize=(15, 8), title = 'Conversion rate over months', xlabel='month', ylabel='rate', legend='conversion')"
   ]
  },
  {
   "attachments": {},
   "cell_type": "markdown",
   "metadata": {},
   "source": [
    "У нас есть данные за два месяца,  явных сезонностей не видно (вероятно из-за периода праздников в начале января), однако по данным февраля можно предположить что есть недельная сезонность. Есть также аномальный период 6-12 числа февраля.  В целом можно сказать, что недели было бы достаточно для проведения A/B теста"
   ]
  },
  {
   "attachments": {},
   "cell_type": "markdown",
   "metadata": {},
   "source": [
    "Расчёт объёма выборки для детекции изменения конверсии  конверссии в +5% при  исходной конверсии 10%:  \n",
    "-  599 пользователей (по Ewan's Awesome A/B tools)\n",
    "\n",
    "Скриншот расчёта:  \n",
    "\n",
    "https://sun9-16.userapi.com/impg/HlfRLM34NCLsBjqu115nZ88hFs1V9pU08gNpEA/QTuMowokaqY.jpg?size=1121x772&quality=95&sign=86e28eae3d8e3d2ccfea2ddcf44f0a03&type=album"
   ]
  },
  {
   "attachments": {},
   "cell_type": "markdown",
   "metadata": {},
   "source": [
    "# Задание 5. Корректность течения эксперимента"
   ]
  },
  {
   "cell_type": "code",
   "execution_count": 32,
   "metadata": {},
   "outputs": [
    {
     "name": "stdout",
     "output_type": "stream",
     "text": [
      "(966, 4)\n",
      "date         object\n",
      "group        object\n",
      "user_id       int64\n",
      "converted     int64\n",
      "dtype: object\n",
      "        date    group  user_id  converted\n",
      "0 2023-03-01  control   106085          1\n",
      "1 2023-03-01  control   106086          1\n",
      "2 2023-03-01  control   106087          1\n",
      "3 2023-03-01  control   106088          1\n",
      "4 2023-03-01  control   106089          1\n",
      "          date      group  user_id  converted\n",
      "961 2023-03-04  treatment   107046          0\n",
      "962 2023-03-04  treatment   107047          0\n",
      "963 2023-03-04  treatment   107048          0\n",
      "964 2023-03-04  treatment   107049          0\n",
      "965 2023-03-04  treatment   107050          0\n",
      "False    966\n",
      "Name: count, dtype: int64\n"
     ]
    }
   ],
   "source": [
    "data_4_days = pd.read_csv('m8_task\\Data for monitoring - first 4 days.csv')\n",
    "print(data_4_days.shape)\n",
    "print(data_results.dtypes)\n",
    "\n",
    "data_4_days.date =  pd.to_datetime(data_results.date, format='%d.%m.%Y') \n",
    "print(data_results.head(5))\n",
    "print(data_results.tail(5))\n",
    "\n",
    "# дубликаты\n",
    "print(data_4_days.duplicated(subset='user_id', keep=False).value_counts())\n"
   ]
  },
  {
   "cell_type": "code",
   "execution_count": 33,
   "metadata": {},
   "outputs": [],
   "source": [
    "# разделить датасеты на тест и контроль\n",
    "\n",
    "data_4_days_contr = data_4_days.loc[data_4_days.group == 'control', :]\n",
    "data_4_days_treat= data_4_days.loc[data_4_days.group == 'treatment', :]\n",
    "data_4_days_contr_users = data_4_days_contr.loc[:, ['date', 'user_id']].groupby(['date']).count()\n",
    "data_4_days_treat_users = data_4_days_treat.loc[:, ['date', 'user_id']].groupby(['date']).count()\n"
   ]
  },
  {
   "cell_type": "code",
   "execution_count": 31,
   "metadata": {},
   "outputs": [
    {
     "data": {
      "text/html": [
       "<div>\n",
       "<style scoped>\n",
       "    .dataframe tbody tr th:only-of-type {\n",
       "        vertical-align: middle;\n",
       "    }\n",
       "\n",
       "    .dataframe tbody tr th {\n",
       "        vertical-align: top;\n",
       "    }\n",
       "\n",
       "    .dataframe thead th {\n",
       "        text-align: right;\n",
       "    }\n",
       "</style>\n",
       "<table border=\"1\" class=\"dataframe\">\n",
       "  <thead>\n",
       "    <tr style=\"text-align: right;\">\n",
       "      <th></th>\n",
       "      <th>user_id</th>\n",
       "    </tr>\n",
       "    <tr>\n",
       "      <th>date</th>\n",
       "      <th></th>\n",
       "    </tr>\n",
       "  </thead>\n",
       "  <tbody>\n",
       "    <tr>\n",
       "      <th>2023-03-01</th>\n",
       "      <td>122</td>\n",
       "    </tr>\n",
       "    <tr>\n",
       "      <th>2023-03-02</th>\n",
       "      <td>119</td>\n",
       "    </tr>\n",
       "    <tr>\n",
       "      <th>2023-03-03</th>\n",
       "      <td>111</td>\n",
       "    </tr>\n",
       "    <tr>\n",
       "      <th>2023-03-04</th>\n",
       "      <td>11</td>\n",
       "    </tr>\n",
       "  </tbody>\n",
       "</table>\n",
       "</div>"
      ],
      "text/plain": [
       "            user_id\n",
       "date               \n",
       "2023-03-01      122\n",
       "2023-03-02      119\n",
       "2023-03-03      111\n",
       "2023-03-04       11"
      ]
     },
     "execution_count": 31,
     "metadata": {},
     "output_type": "execute_result"
    }
   ],
   "source": [
    "data_4_days_treat_users"
   ]
  },
  {
   "cell_type": "code",
   "execution_count": 52,
   "metadata": {},
   "outputs": [
    {
     "data": {
      "text/plain": [
       "<AxesSubplot:xlabel='date'>"
      ]
     },
     "execution_count": 52,
     "metadata": {},
     "output_type": "execute_result"
    },
    {
     "data": {
      "image/png": "[encoded data removed]",
      "text/plain": [
       "<Figure size 432x288 with 1 Axes>"
      ]
     },
     "metadata": {
      "needs_background": "light"
     },
     "output_type": "display_data"
    }
   ],
   "source": [
    "# график числа пользователей\n",
    "\n",
    "ax = data_4_days_treat_users['user_id'].plot(legend  = True, label = 'treat')\n",
    "data_4_days_contr_users['user_id'].plot(ax=ax, legend  = True, label = 'control')\n"
   ]
  },
  {
   "attachments": {},
   "cell_type": "markdown",
   "metadata": {},
   "source": [
    "На четвёртый день наблюдается аномалия: резкое падение числа пользователей открывших e-mail в  тестовой группе и рост открывших e-mail в контрольной  \n",
    "Но эта аномалия развивалась начиная со второго дня  \n",
    "Можно подозревать, что в методике проведения эксперимента есть ошибка, связанная с рассылкой"
   ]
  },
  {
   "cell_type": "code",
   "execution_count": 41,
   "metadata": {},
   "outputs": [],
   "source": [
    "\n",
    "\n",
    "data_4_days_contr_conv = data_4_days_contr.groupby(['date']).agg({'user_id': 'count', 'converted': 'sum'})\n",
    "data_4_days_contr_conv['conv_rate'] = data_4_days_contr_conv.converted / data_4_days_contr_conv.user_id\n",
    "\n",
    "\n",
    "data_4_days_treat_conv = data_4_days_treat.groupby(['date']).agg({'user_id': 'count', 'converted': 'sum'})\n",
    "data_4_days_treat_conv['conv_rate'] = data_4_days_treat_conv.converted / data_4_days_treat_conv.user_id\n",
    " "
   ]
  },
  {
   "cell_type": "code",
   "execution_count": 56,
   "metadata": {},
   "outputs": [
    {
     "data": {
      "text/plain": [
       "<AxesSubplot:xlabel='date'>"
      ]
     },
     "execution_count": 56,
     "metadata": {},
     "output_type": "execute_result"
    },
    {
     "data": {
      "image/png": "[encoded data removed]",
      "text/plain": [
       "<Figure size 432x288 with 1 Axes>"
      ]
     },
     "metadata": {
      "needs_background": "light"
     },
     "output_type": "display_data"
    }
   ],
   "source": [
    "# график уровня конверсии\n",
    "\n",
    "ax = data_4_days_treat_conv['conv_rate'].plot(legend  = True, label = 'treat')\n",
    "data_4_days_contr_conv['conv_rate'].plot(ax=ax, legend  = True, label = 'control')"
   ]
  },
  {
   "attachments": {},
   "cell_type": "markdown",
   "metadata": {},
   "source": [
    "Здесь видно, что первые два дня эксперимент шёл нормально, но что-то испортилось на третий день"
   ]
  },
  {
   "attachments": {},
   "cell_type": "markdown",
   "metadata": {},
   "source": [
    "# Задание 6. Завершение теста"
   ]
  },
  {
   "cell_type": "code",
   "execution_count": 3,
   "metadata": {},
   "outputs": [],
   "source": [
    "data_results = pd.read_csv('m8_task\\Data for results.csv')"
   ]
  },
  {
   "cell_type": "code",
   "execution_count": 5,
   "metadata": {},
   "outputs": [
    {
     "name": "stdout",
     "output_type": "stream",
     "text": [
      "(1205, 4)\n",
      "date         object\n",
      "group        object\n",
      "user_id       int64\n",
      "converted     int64\n",
      "dtype: object\n",
      "        date    group  user_id  converted\n",
      "0 2023-03-01  control   106085          1\n",
      "1 2023-03-01  control   106086          1\n",
      "2 2023-03-01  control   106087          1\n",
      "3 2023-03-01  control   106088          1\n",
      "4 2023-03-01  control   106089          1\n",
      "           date      group  user_id  converted\n",
      "1200 2023-03-05  treatment   107285          0\n",
      "1201 2023-03-05  treatment   107286          0\n",
      "1202 2023-03-05  treatment   107287          0\n",
      "1203 2023-03-05  treatment   107288          0\n",
      "1204 2023-03-05  treatment   107289          0\n"
     ]
    }
   ],
   "source": [
    "print(data_results.shape)\n",
    "print(data_results.dtypes)\n",
    "\n",
    "data_results.date =  pd.to_datetime(data_results.date, format='%d.%m.%Y') \n",
    "print(data_results.head(5))\n",
    "print(data_results.tail(5))"
   ]
  },
  {
   "cell_type": "code",
   "execution_count": 6,
   "metadata": {},
   "outputs": [],
   "source": [
    "# разделить датасеты на тест и контроль\n",
    "\n",
    "data_results_contr = data_results.loc[data_results.group == 'control', :]\n",
    "data_results_treat= data_results.loc[data_results.group == 'treatment', :]\n",
    "\n",
    "# посчитать число юзеров в день и число открывших ссылку\n",
    "\n",
    "data_results_contr_conv = data_results_contr.groupby(['date']).agg({'user_id': 'count', 'converted': 'sum'})\n",
    "data_results_contr_conv['conv_rate'] = data_results_contr_conv.converted / data_results_contr_conv.user_id\n",
    "\n",
    "\n",
    "data_results_treat_conv = data_results_treat.groupby(['date']).agg({'user_id': 'count', 'converted': 'sum'})\n",
    "data_results_treat_conv['conv_rate'] = data_results_treat_conv.converted / data_results_treat_conv.user_id"
   ]
  },
  {
   "cell_type": "code",
   "execution_count": 7,
   "metadata": {},
   "outputs": [
    {
     "data": {
      "text/plain": [
       "<AxesSubplot:xlabel='date'>"
      ]
     },
     "execution_count": 7,
     "metadata": {},
     "output_type": "execute_result"
    },
    {
     "data": {
      "image/png": "[encoded data removed]",
      "text/plain": [
       "<Figure size 432x288 with 1 Axes>"
      ]
     },
     "metadata": {
      "needs_background": "light"
     },
     "output_type": "display_data"
    }
   ],
   "source": [
    "# график уровня конверсии\n",
    "\n",
    "ax = data_results_treat_conv['conv_rate'].plot(legend  = True, label = 'treat')\n",
    "data_results_contr_conv['conv_rate'].plot(ax=ax, legend  = True, label = 'control')"
   ]
  },
  {
   "cell_type": "code",
   "execution_count": 8,
   "metadata": {},
   "outputs": [
    {
     "data": {
      "text/html": [
       "<div>\n",
       "<style scoped>\n",
       "    .dataframe tbody tr th:only-of-type {\n",
       "        vertical-align: middle;\n",
       "    }\n",
       "\n",
       "    .dataframe tbody tr th {\n",
       "        vertical-align: top;\n",
       "    }\n",
       "\n",
       "    .dataframe thead th {\n",
       "        text-align: right;\n",
       "    }\n",
       "</style>\n",
       "<table border=\"1\" class=\"dataframe\">\n",
       "  <thead>\n",
       "    <tr style=\"text-align: right;\">\n",
       "      <th></th>\n",
       "      <th>user_id</th>\n",
       "      <th>converted</th>\n",
       "      <th>conv_rate</th>\n",
       "    </tr>\n",
       "    <tr>\n",
       "      <th>date</th>\n",
       "      <th></th>\n",
       "      <th></th>\n",
       "      <th></th>\n",
       "    </tr>\n",
       "  </thead>\n",
       "  <tbody>\n",
       "    <tr>\n",
       "      <th>2023-03-01</th>\n",
       "      <td>122</td>\n",
       "      <td>15</td>\n",
       "      <td>0.122951</td>\n",
       "    </tr>\n",
       "    <tr>\n",
       "      <th>2023-03-02</th>\n",
       "      <td>119</td>\n",
       "      <td>15</td>\n",
       "      <td>0.126050</td>\n",
       "    </tr>\n",
       "    <tr>\n",
       "      <th>2023-03-03</th>\n",
       "      <td>111</td>\n",
       "      <td>15</td>\n",
       "      <td>0.135135</td>\n",
       "    </tr>\n",
       "    <tr>\n",
       "      <th>2023-03-04</th>\n",
       "      <td>120</td>\n",
       "      <td>15</td>\n",
       "      <td>0.125000</td>\n",
       "    </tr>\n",
       "    <tr>\n",
       "      <th>2023-03-05</th>\n",
       "      <td>120</td>\n",
       "      <td>15</td>\n",
       "      <td>0.125000</td>\n",
       "    </tr>\n",
       "  </tbody>\n",
       "</table>\n",
       "</div>"
      ],
      "text/plain": [
       "            user_id  converted  conv_rate\n",
       "date                                     \n",
       "2023-03-01      122         15   0.122951\n",
       "2023-03-02      119         15   0.126050\n",
       "2023-03-03      111         15   0.135135\n",
       "2023-03-04      120         15   0.125000\n",
       "2023-03-05      120         15   0.125000"
      ]
     },
     "execution_count": 8,
     "metadata": {},
     "output_type": "execute_result"
    }
   ],
   "source": [
    "data_results_treat_conv"
   ]
  },
  {
   "cell_type": "code",
   "execution_count": 10,
   "metadata": {},
   "outputs": [
    {
     "name": "stdout",
     "output_type": "stream",
     "text": [
      "treat\n",
      "592\n",
      "75\n",
      "control\n",
      "613\n",
      "61\n"
     ]
    }
   ],
   "source": [
    "# данные для статистического теста\n",
    "print('treat')\n",
    "print(data_results_treat_conv.user_id.sum())\n",
    "print(data_results_treat_conv.converted.sum())\n",
    "print('control')\n",
    "print(data_results_contr_conv.user_id.sum())\n",
    "print(data_results_contr_conv.converted.sum())"
   ]
  },
  {
   "attachments": {},
   "cell_type": "markdown",
   "metadata": {},
   "source": [
    "Для проверки был применён хи-квадрат тест  \n",
    "https://www.evanmiller.org/ab-testing/chi-squared.html  \n",
    "\n",
    "Сравнение результатов с параметром p=0.14 показало (уровень уверенности 95%), что разница в уровне конверсии незначима\n",
    "\n",
    "Ссылка на скриншот расчёта:  \n",
    "https://sun9-28.userapi.com/impg/rYECzofSEX1WZSplGhRxViWNfbLNkAHZwFUvvg/YXLJN6LJiXU.jpg?size=1090x647&quality=95&sign=d42c92a08211f45cbc73fefca8c50cbb&type=album"
   ]
  },
  {
   "attachments": {},
   "cell_type": "markdown",
   "metadata": {},
   "source": [
    "## Вывод  \n",
    "Расчёт статистической значимости различий тестовой и контрольной групп показал, что внеёсённое изменение не приводить к значимому повышению числа кликов по ссылкам в email."
   ]
  }
 ],
 "metadata": {
  "kernelspec": {
   "display_name": "Python 3",
   "language": "python",
   "name": "python3"
  },
  "language_info": {
   "codemirror_mode": {
    "name": "ipython",
    "version": 3
   },
   "file_extension": ".py",
   "mimetype": "text/x-python",
   "name": "python",
   "nbconvert_exporter": "python",
   "pygments_lexer": "ipython3",
   "version": "3.10.4"
  },
  "orig_nbformat": 4
 },
 "nbformat": 4,
 "nbformat_minor": 2
}
